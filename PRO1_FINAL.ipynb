{
  "nbformat": 4,
  "nbformat_minor": 0,
  "metadata": {
    "colab": {
      "provenance": []
    },
    "kernelspec": {
      "name": "python3",
      "display_name": "Python 3"
    },
    "language_info": {
      "name": "python"
    }
  },
  "cells": [
    {
      "cell_type": "markdown",
      "source": [
        "Queremos codificar un programa que, dada una tabla de excel que contenga actividades de un proyecto, su descripción, sus actividades precedentes inmediatas y la duración de cada una de ellas, pueda retornar el tiempo mínimo necesario para la elaboración de un proyecto, así como la lista de sus actividades críticas, Karen Lazo A"
      ],
      "metadata": {
        "id": "n_F6i9sRrxXK"
      }
    },
    {
      "cell_type": "code",
      "execution_count": 5,
      "metadata": {
        "id": "8vOss-pfnZyv"
      },
      "outputs": [],
      "source": [
        "#Importamos esto, con el fin de extraer los datos del excel en cuestion\n",
        "from google.colab import drive\n",
        "import pandas as pd\n",
        "import numpy as np"
      ]
    },
    {
      "cell_type": "code",
      "source": [
        "#Montamos nuestro drive, donde previamente ya tenemos el archivo\n",
        "drive.mount(\"/content/gdrive\")"
      ],
      "metadata": {
        "colab": {
          "base_uri": "https://localhost:8080/"
        },
        "id": "OfptrwDVnsE-",
        "outputId": "ecbd0340-57e4-4aa0-e44d-4b8c49948db2"
      },
      "execution_count": 6,
      "outputs": [
        {
          "output_type": "stream",
          "name": "stdout",
          "text": [
            "Mounted at /content/gdrive\n"
          ]
        }
      ]
    },
    {
      "cell_type": "code",
      "source": [
        "#Llamamos al archivo (si esta en una carpeta, escribimos el nombre de esta, despues del My Drive/)\n",
        "df= pd.read_excel(r\"/content/gdrive/My Drive/Creacion_de_la_carrera_de_mat_ap.xlsx\")\n",
        "print(df)"
      ],
      "metadata": {
        "colab": {
          "base_uri": "https://localhost:8080/"
        },
        "id": "7IHpsvudn1YG",
        "outputId": "5a7d82f4-5800-4324-bf65-7f2c40fd9fa1"
      },
      "execution_count": 7,
      "outputs": [
        {
          "output_type": "stream",
          "name": "stdout",
          "text": [
            "    Actividad                                        Descripcion Precedentes  \\\n",
            "0           1                                Decision preliminar         NaN   \n",
            "1           2              Determinacion y analisis de objetivos           1   \n",
            "2           3                    Sugerencia del plan de estudios           2   \n",
            "3           4                       Presentacion de la propuesta           3   \n",
            "4           5  Consulta con el sector academico del departame...           4   \n",
            "5           6        Consulta con el sector academico de la UNAM           4   \n",
            "6           7  Consulta con el sector academico de otras inst...           4   \n",
            "7           8  Consulta con el sector academico de otras inst...           4   \n",
            "8           9   Consulta con el sector administrativo de la UNAM           4   \n",
            "9          10  Analisis, discusion e incorporacion de sugeren...           5   \n",
            "10         11  Analisis, discusion e incorporacion de sugeren...           6   \n",
            "11         12  Analisis, discusion e incorporacion de sugeren...           7   \n",
            "12         13  Analisis, discusion e incorporacion de sugeren...           8   \n",
            "13         14  Analisis comparativo de planes similares en la...          11   \n",
            "14         15              Adicion de consideraciones nacionales      10, 14   \n",
            "15         16         Adicion de consideraciones internacionales  12, 13, 18   \n",
            "16         17           Elaboracion del documento administrativo       9, 16   \n",
            "17         18  Presentacion en el consejo tecnico de la Facul...          15   \n",
            "18         19                  Observaciones del consejo tecnico          18   \n",
            "19         20             Elaboracion del plan de estudios final      17, 19   \n",
            "20         21  Presentacion de propuesta definitiva a consejo...          20   \n",
            "\n",
            "    Duracion  \n",
            "0          3  \n",
            "1         15  \n",
            "2         10  \n",
            "3          2  \n",
            "4          8  \n",
            "5         10  \n",
            "6         10  \n",
            "7          8  \n",
            "8          5  \n",
            "9         20  \n",
            "10        10  \n",
            "11         8  \n",
            "12         6  \n",
            "13        10  \n",
            "14        20  \n",
            "15        15  \n",
            "16        10  \n",
            "17         3  \n",
            "18         8  \n",
            "19         8  \n",
            "20         8  \n"
          ]
        }
      ]
    },
    {
      "cell_type": "code",
      "source": [
        "df[\"Actividad\"]"
      ],
      "metadata": {
        "colab": {
          "base_uri": "https://localhost:8080/"
        },
        "id": "yya-qnjIoBHL",
        "outputId": "67edb323-0ea7-4dff-f23f-2bbd77cc5652"
      },
      "execution_count": 8,
      "outputs": [
        {
          "output_type": "execute_result",
          "data": {
            "text/plain": [
              "0      1\n",
              "1      2\n",
              "2      3\n",
              "3      4\n",
              "4      5\n",
              "5      6\n",
              "6      7\n",
              "7      8\n",
              "8      9\n",
              "9     10\n",
              "10    11\n",
              "11    12\n",
              "12    13\n",
              "13    14\n",
              "14    15\n",
              "15    16\n",
              "16    17\n",
              "17    18\n",
              "18    19\n",
              "19    20\n",
              "20    21\n",
              "Name: Actividad, dtype: int64"
            ]
          },
          "metadata": {},
          "execution_count": 8
        }
      ]
    },
    {
      "cell_type": "code",
      "source": [
        "import pandas as pd\n",
        "\n",
        "#Una vez montado Google Drive y cargado el DataFrame `df` (estructura de dos dimensiones (tablas)) procedemos a\n",
        "\n",
        "#Preparar los nodos y arcos, manejando múltiples precedentes\n",
        "#usamos listas\n",
        "nodos = list(df[\"Actividad\"])\n",
        "arcos = []\n",
        "\n",
        "\"\"\"esta funcion itera sobre las filas del df\n",
        "para cada fila, extrae los valores de las columnas 'Actividad', 'Duracion' y 'Precedentes'.\n",
        "se va a comprobar la existencia o no de multiples precedentes\n",
        "Al final se imprimira las listas de nodos y arcos\n",
        "\"\"\"\n",
        "#index: busca un elemento en la lista y devuelve su posición/índice.\n",
        "#row: serie que tiene a los datos de esa fila.\n",
        "\n",
        "for index, row in df.iterrows():\n",
        "    actividad = row['Actividad'] #tiene los valores de la columna 'Actividad', lo mismo en las otras pero con las filas correspondientes\n",
        "    duracion = row['Duracion']\n",
        "    precedentes = row['Precedentes']\n",
        "\n",
        "    #Comprobar si hay múltiples precedentes y manejarlos\n",
        "    if pd.isna(precedentes): #isna detecta valores faltantes.\"\n",
        "        #Actividad inicial sin precedentes\n",
        "        arcos.append((None, actividad, duracion))\n",
        "    else:\n",
        "        #Dividir los precedentes si son múltiples, separados por comas\n",
        "        precedentes = str(precedentes).split(',') #split:divide una cadena en subcadenas\n",
        "        for precedente in precedentes:\n",
        "            arcos.append((int(precedente.strip()), actividad, duracion)) #strip: da una copia de una cadena\n",
        "             # Agrega una tupla a la lista arcos, se eliminan los espacios en blanco, tambien pone la actividad y la duración.\n",
        "\n",
        "print(\"Nodos:\", nodos)\n",
        "print(\"Arcos:\", arcos)\n"
      ],
      "metadata": {
        "colab": {
          "base_uri": "https://localhost:8080/"
        },
        "id": "pnR09DbzoFFS",
        "outputId": "32f61041-711a-41bd-9d11-8724cc2a4476"
      },
      "execution_count": 9,
      "outputs": [
        {
          "output_type": "stream",
          "name": "stdout",
          "text": [
            "Nodos: [1, 2, 3, 4, 5, 6, 7, 8, 9, 10, 11, 12, 13, 14, 15, 16, 17, 18, 19, 20, 21]\n",
            "Arcos: [(None, 1, 3), (1, 2, 15), (2, 3, 10), (3, 4, 2), (4, 5, 8), (4, 6, 10), (4, 7, 10), (4, 8, 8), (4, 9, 5), (5, 10, 20), (6, 11, 10), (7, 12, 8), (8, 13, 6), (11, 14, 10), (10, 15, 20), (14, 15, 20), (12, 16, 15), (13, 16, 15), (18, 16, 15), (9, 17, 10), (16, 17, 10), (15, 18, 3), (18, 19, 8), (17, 20, 8), (19, 20, 8), (20, 21, 8)]\n"
          ]
        }
      ]
    },
    {
      "cell_type": "code",
      "source": [
        "\"\"\"La clase es para hacer un grafica dirigida\n",
        "\"\"\"\n",
        "\n",
        "class Grafo:\n",
        "    def __init__(self):\n",
        "        \"\"\"Inicializa el grafo dirigido sin nodos ni arcos.\"\"\"\n",
        "        self.nodos = [] #las listas almacenaran los nodos, y arcos respectivamente\n",
        "        self.arcos = []\n",
        "        self.inicio = {}  #el diccionario tendrá los tiempos de inicio mas temprano de cada nodo\n",
        "        self.fin = {} #para los tiempos finales\n",
        "        self.caminocri = [] # para los datos que se necesitan para determinar las actividades criticas\n",
        "\n",
        "    def nvertice(self, nodo):\n",
        "        \"\"\"Añade un vértice al grafo si no está ya presente.\"\"\"\n",
        "        if nodo not in self.nodos:\n",
        "            self.nodos.append(nodo)\n",
        "            self.inicio[nodo] = 0  #Inicializar tiempo más temprano con 0\n",
        "\n",
        "#para agregar un arco al grafo si:\n",
        "         #tiene 3 elementos\n",
        "         #el primer elemnto del arco puede ser none o un nodo que ya exista en el grafo\n",
        "         #el segundo elemento del arco debe ser un nodo que ya exista\n",
        "    def narco(self, arco):\n",
        "        if len(arco) == 3 and (arco[0] is None or arco[0] in self.nodos) and arco[1] in self.nodos:\n",
        "            self.arcos.append(arco)\n",
        "        else:\n",
        "            print(\"Error al añadir arco:\", arco)\n",
        "\n",
        "    def PrintG(self):\n",
        "        for arco in self.arcos:\n",
        "            print(f\"De {arco[0]} a {arco[1]} con duración {arco[2]}\")\n",
        "\n",
        "#Crear el grafo y añadir nodos y arcos\n",
        "graph = Grafo()\n",
        "for nodo in nodos:\n",
        "    graph.nvertice(nodo)\n",
        "for arco in arcos:\n",
        "    graph.narco(arco)\n",
        "\n",
        "graph.PrintG()\n"
      ],
      "metadata": {
        "colab": {
          "base_uri": "https://localhost:8080/"
        },
        "id": "L8-GjShvoJaG",
        "outputId": "9e343773-d667-4102-8529-5308a5b1d39f"
      },
      "execution_count": 10,
      "outputs": [
        {
          "output_type": "stream",
          "name": "stdout",
          "text": [
            "De None a 1 con duración 3\n",
            "De 1 a 2 con duración 15\n",
            "De 2 a 3 con duración 10\n",
            "De 3 a 4 con duración 2\n",
            "De 4 a 5 con duración 8\n",
            "De 4 a 6 con duración 10\n",
            "De 4 a 7 con duración 10\n",
            "De 4 a 8 con duración 8\n",
            "De 4 a 9 con duración 5\n",
            "De 5 a 10 con duración 20\n",
            "De 6 a 11 con duración 10\n",
            "De 7 a 12 con duración 8\n",
            "De 8 a 13 con duración 6\n",
            "De 11 a 14 con duración 10\n",
            "De 10 a 15 con duración 20\n",
            "De 14 a 15 con duración 20\n",
            "De 12 a 16 con duración 15\n",
            "De 13 a 16 con duración 15\n",
            "De 18 a 16 con duración 15\n",
            "De 9 a 17 con duración 10\n",
            "De 16 a 17 con duración 10\n",
            "De 15 a 18 con duración 3\n",
            "De 18 a 19 con duración 8\n",
            "De 17 a 20 con duración 8\n",
            "De 19 a 20 con duración 8\n",
            "De 20 a 21 con duración 8\n"
          ]
        }
      ]
    },
    {
      "cell_type": "code",
      "source": [
        "\"\"\"Calculemos el tiempo el mas temprano (Earliest Start) y el tiempo mas tardio (Latest Finish) para cada nodo en el grafo\n",
        "\"\"\"\n",
        "\n",
        "class Grafo0:\n",
        "    def __init__(self): #inicializamos las estructuras para guardar los datos correspondientes\n",
        "        self.nodos = []\n",
        "        self.arcos = []\n",
        "        self.inicio = {} #usamos diccionarios\n",
        "        self.fin = {}\n",
        "\n",
        "    def agregar_vertice(self, nodo): #agrega un nodo si no esta presente\n",
        "        if nodo not in self.nodos:\n",
        "            self.nodos.append(nodo)\n",
        "            self.inicio[nodo] = 0  # Inicializar tiempo de inicio con 0\n",
        "\n",
        "    def agregar_arco(self, arco): #agrega arcos\n",
        "        self.arcos.append(arco)\n",
        "\n",
        "    def calcular_inicio(self): #usamos algortimo \"Forward Pass\", lo que hace es recorrer los nodos inciales hacia los finales y calcula los timpos basandose de la duracion de las act. con las que se relacionan\n",
        "        cambios = True\n",
        "        while cambios:\n",
        "            cambios = False\n",
        "            for arco in self.arcos:\n",
        "                if arco[0] is not None and self.inicio[arco[1]] < self.inicio[arco[0]] + arco[2]:\n",
        "                    self.inicio[arco[1]] = self.inicio[arco[0]] + arco[2]\n",
        "                    cambios = True\n",
        "    def calcular_final(self):\n",
        "        # Establecer todos los valores iniciales de Latest Finish a infinito\n",
        "        for nodo in self.nodos: #usamos el algoritmo Backward Pass.\n",
        "            self.fin[nodo] = float('inf')\n",
        "\n",
        "        # Identificar el nodo final y establecer su Latest Finish al mismo valor que su Earliest Start\n",
        "        final_node = 22  # Nodo final\n",
        "        self.fin[final_node] = self.inicio[final_node]\n",
        "\n",
        "        # Calcular el Latest Finish para todos los nodos\n",
        "        cambios = True\n",
        "        while cambios:\n",
        "            cambios = False\n",
        "            for arco in reversed(self.arcos):\n",
        "                if arco[0] is not None and self.fin[arco[0]] > self.fin[arco[1]] - arco[2]:\n",
        "                    nuevo_fin = self.fin[arco[1]] - arco[2]\n",
        "                    if self.fin[arco[0]] > nuevo_fin:\n",
        "                        self.fin[arco[0]] = nuevo_fin\n",
        "                        cambios = True\n",
        "\n",
        "        # Revisar si el Latest Finish del nodo final se ha actualizado correctamente\n",
        "        if self.fin[final_node] == float('inf'):\n",
        "            # Si aún es infinito, buscar cualquier arco que llegue y establecerlo manualmente si no se calculó\n",
        "            for arco in self.arcos:\n",
        "                if arco[1] == final_node:\n",
        "                    self.fin[final_node] = min(self.fin[final_node], self.inicio[arco[0]] + arco[2])\n",
        "\n",
        "\n",
        "    def imprimir_grafo(self):\n",
        "        for nodo in self.nodos:\n",
        "            print(f\"Nodo {nodo}: Earliest Start = {self.inicio[nodo]}, Latest Finish = {self.fin[nodo]}\")\n",
        "\n",
        "\n",
        "grafo0 = Grafo0()\n"
      ],
      "metadata": {
        "id": "6FijWPYBoNrT"
      },
      "execution_count": 11,
      "outputs": []
    },
    {
      "cell_type": "code",
      "source": [
        "#Vamos a modificar el grafo anterior, para poner las cosas especiales (arcos imaginarios)\n",
        "\n",
        "nodos = [1, 2, 3, 4, 5, 6, 7, 8, 9, 10, 11, 12, 13, 14, 15, 16, 17, 18, 19, 20, 21]\n",
        "arcos = [(None, 1, 3), (1, 2, 15), (2, 3, 10), (3, 4, 2), (4, 5, 8), (4, 6, 10), (4, 7, 10), (4, 8, 8), (4, 9, 5), (5, 10, 20),\n",
        "         (6, 11, 10), (7, 12, 8), (8, 13, 6), (11, 14, 10), (10, 15, 20), (14, 15, 20), (12, 16, 15), (13, 16, 15), (18, 16, 15),\n",
        "         (9, 17, 10), (16, 17, 10), (15, 18, 3), (18, 19, 8), (17, 20, 8), (19, 20, 8), (20, 21, 8)]\n",
        "for nodo in nodos:\n",
        "    grafo0.agregar_vertice(nodo)\n",
        "for arco in arcos:\n",
        "    grafo0.agregar_arco(arco)\n",
        "\n",
        "inicio_nodo = 0  # Usar 0 o cualquier otro identificador único que no se use en los otros nodos\n",
        "final_node = 22\n",
        "\n",
        "#Ponemos un nodo de inicio y un nodo final para representar el inicio y el final del proyecto.\n",
        "#Ponemos arcos imaginarios con duración 0 desde cualquier nodo que no tenga arcos salientes hacia el nodo final.\n",
        "\n",
        "grafo0.agregar_vertice(inicio_nodo)\n",
        "grafo0.agregar_arco((inicio_nodo, 1, 3))  # Reemplazar el arco original\n",
        "\n",
        "grafo0.agregar_vertice(final_node)\n",
        "grafo0.agregar_arco((21, final_node, 0))  # Arco desde el último nodo original hasta el nodo final\n",
        "\n",
        "for nodo in nodos:\n",
        "    if not any(arco[0] == nodo for arco in arcos):\n",
        "        grafo0.agregar_arco((nodo, final_node, 0))  # Arco imaginario con duración 0\n",
        "\n",
        "# Calcular los tiempos más tempranos y más tardíos\n",
        "grafo0.calcular_inicio()\n",
        "grafo0.calcular_final()\n",
        "grafo0.imprimir_grafo()"
      ],
      "metadata": {
        "colab": {
          "base_uri": "https://localhost:8080/"
        },
        "id": "rlQt451DoUf5",
        "outputId": "f8786ed6-785b-48fb-caab-5605ced337ff"
      },
      "execution_count": 12,
      "outputs": [
        {
          "output_type": "stream",
          "name": "stdout",
          "text": [
            "Nodo 1: Earliest Start = 3, Latest Finish = 3\n",
            "Nodo 2: Earliest Start = 18, Latest Finish = 18\n",
            "Nodo 3: Earliest Start = 28, Latest Finish = 28\n",
            "Nodo 4: Earliest Start = 30, Latest Finish = 30\n",
            "Nodo 5: Earliest Start = 38, Latest Finish = 40\n",
            "Nodo 6: Earliest Start = 40, Latest Finish = 40\n",
            "Nodo 7: Earliest Start = 40, Latest Finish = 75\n",
            "Nodo 8: Earliest Start = 38, Latest Finish = 77\n",
            "Nodo 9: Earliest Start = 35, Latest Finish = 98\n",
            "Nodo 10: Earliest Start = 58, Latest Finish = 60\n",
            "Nodo 11: Earliest Start = 50, Latest Finish = 50\n",
            "Nodo 12: Earliest Start = 48, Latest Finish = 83\n",
            "Nodo 13: Earliest Start = 44, Latest Finish = 83\n",
            "Nodo 14: Earliest Start = 60, Latest Finish = 60\n",
            "Nodo 15: Earliest Start = 80, Latest Finish = 80\n",
            "Nodo 16: Earliest Start = 98, Latest Finish = 98\n",
            "Nodo 17: Earliest Start = 108, Latest Finish = 108\n",
            "Nodo 18: Earliest Start = 83, Latest Finish = 83\n",
            "Nodo 19: Earliest Start = 91, Latest Finish = 108\n",
            "Nodo 20: Earliest Start = 116, Latest Finish = 116\n",
            "Nodo 21: Earliest Start = 124, Latest Finish = 124\n",
            "Nodo 0: Earliest Start = 0, Latest Finish = 0\n",
            "Nodo 22: Earliest Start = 124, Latest Finish = 124\n"
          ]
        }
      ]
    },
    {
      "cell_type": "code",
      "source": [
        "#vamos a determinar las actividades criticas\n",
        "# sera una act. cri si comparando los tiempos de inicio y finalización de cada nodo son iguales\n",
        "\n",
        "class Grafo1:\n",
        "    def __init__(self):\n",
        "        self.nodos = []\n",
        "        self.arcos = []\n",
        "        self.inicio = {}\n",
        "        self.fin = {}\n",
        "        self.caminocri = []\n",
        "\n",
        "    def nvertice(self, nodo):\n",
        "        self.nodos.append(nodo)\n",
        "        self.inicio[nodo] = 0\n",
        "\n",
        "    def narco(self, arco):\n",
        "        self.arcos.append(arco)\n",
        "\n",
        "    def calcular_inicio(self):\n",
        "        for _ in range(len(self.nodos)):\n",
        "            for arco in self.arcos:\n",
        "                if arco[0] is not None:\n",
        "                    self.inicio[arco[1]] = max(\n",
        "                        self.inicio.get(arco[1], 0),\n",
        "                        self.inicio[arco[0]] + arco[2]\n",
        "                    )\n",
        "\n",
        "    def calcular_fin(self):\n",
        "        for nodo in self.nodos:\n",
        "            self.fin[nodo] = float('inf')\n",
        "        final_node = max(self.inicio, key=self.inicio.get)\n",
        "        self.fin[final_node] = self.inicio[final_node]\n",
        "\n",
        "        for _ in range(len(self.nodos)):\n",
        "            for arco in reversed(self.arcos):\n",
        "                if arco[0] is not None:\n",
        "                    self.fin[arco[0]] = min(\n",
        "                        self.fin.get(arco[0], float('inf')),\n",
        "                        self.fin[arco[1]] - arco[2]\n",
        "                    )\n",
        "\n",
        "    def actividadesc(self):\n",
        "        for nodo in self.nodos:\n",
        "            if self.inicio[nodo] == self.fin[nodo]:\n",
        "                self.caminocri.append(nodo)\n",
        "\n",
        "    def print_caminocri(self):\n",
        "        print(\"Actividades Críticas:\", self.caminocri)\n",
        "\n",
        "    def PrintG(self):\n",
        "        for nodo in self.nodos:\n",
        "            print(f\"Nodo {nodo}: ES = {self.inicio[nodo]}, LF = {self.fin[nodo]}\")\n"
      ],
      "metadata": {
        "id": "QRmaaruRoY-U"
      },
      "execution_count": 13,
      "outputs": []
    },
    {
      "cell_type": "code",
      "source": [
        "#Para el reporte del proyecto en un txt. Aparecerá en la seccion de archivos del mismo colab\n",
        "#Le pedimos escriba el tiempo requerido y las actividades criticas\n",
        "def reporte(grafo):\n",
        "    with open(\"project_report.txt\", \"w\") as file:\n",
        "        # Verificar si hay valores en el diccionario 'fin' para evitar errores\n",
        "        if grafo0.fin:\n",
        "            max_fin = max(grafo0.fin, key=grafo0.fin.get)\n",
        "            tiempo_total = grafo0.fin[max_fin]\n",
        "            file.write(\"Tiempo Total del Proyecto: \" + str(tiempo_total) + \"\\n\")\n",
        "        else:\n",
        "            file.write(\"Tiempo Total del Proyecto: No disponible\\n\")\n",
        "\n",
        "        # Verificar si hay actividades críticas para listar\n",
        "        if grafo.caminocri:\n",
        "            actividades = \", \".join(map(str, grafo.caminocri))\n",
        "            file.write(\"Actividades Críticas: \" + actividades + \"\\n\")\n",
        "        else:\n",
        "            file.write(\"Actividades Críticas: No hay actividades críticas.\\n\")\n",
        "\n",
        "\n",
        "grafo = Grafo1()\n",
        "for nodo in nodos:\n",
        "    grafo.nvertice(nodo)\n",
        "for arco in arcos:\n",
        "    grafo.narco(arco)\n",
        "\n",
        "grafo.calcular_inicio()\n",
        "grafo.calcular_fin()\n",
        "grafo.actividadesc()\n",
        "grafo.print_caminocri()\n",
        "reporte(grafo)\n"
      ],
      "metadata": {
        "colab": {
          "base_uri": "https://localhost:8080/"
        },
        "id": "kIY1mDegodtv",
        "outputId": "80792a67-59a4-436c-f277-435d8618ede9"
      },
      "execution_count": 14,
      "outputs": [
        {
          "output_type": "stream",
          "name": "stdout",
          "text": [
            "Actividades Críticas: [1, 2, 3, 4, 6, 11, 14, 15, 16, 17, 18, 20, 21]\n"
          ]
        }
      ]
    }
  ]
}